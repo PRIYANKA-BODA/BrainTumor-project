{
 "cells": [
  {
   "cell_type": "code",
   "execution_count": 19,
   "id": "b3789038",
   "metadata": {},
   "outputs": [],
   "source": [
    "import os\n",
    "import cv2\n",
    "import numpy as np\n",
    "import pandas as pd\n",
    "import seaborn as sns\n",
    "import matplotlib.pyplot as plt\n",
    "from sklearn.preprocessing import LabelEncoder\n",
    "from sklearn.model_selection import train_test_split"
   ]
  },
  {
   "cell_type": "code",
   "execution_count": 8,
   "id": "072ef498",
   "metadata": {},
   "outputs": [],
   "source": [
    "dataset_path = r'C:\\Users\\priya\\OneDrive\\Desktop\\BrainTumor project\\dataset'  # update path if needed"
   ]
  },
  {
   "cell_type": "code",
   "execution_count": 9,
   "id": "b7ca75b5",
   "metadata": {},
   "outputs": [
    {
     "name": "stdout",
     "output_type": "stream",
     "text": [
      "Tumor Categories: ['test', 'train']\n"
     ]
    }
   ],
   "source": [
    "# Categories\n",
    "categories = os.listdir(dataset_path)\n",
    "print(\"Tumor Categories:\", categories)\n",
    "\n",
    "# Create dataframe\n",
    "data = []"
   ]
  },
  {
   "cell_type": "code",
   "execution_count": 10,
   "id": "f3b226b0",
   "metadata": {},
   "outputs": [],
   "source": [
    "for category in categories:\n",
    "    category_path = os.path.join(dataset_path, category)\n",
    "    for img_name in os.listdir(category_path)[:300]:  # limiting to 300 images per class for faster processing\n",
    "        img_path = os.path.join(category_path, img_name)\n",
    "        data.append([img_path, category])"
   ]
  },
  {
   "cell_type": "code",
   "execution_count": 20,
   "id": "4c13b754",
   "metadata": {},
   "outputs": [
    {
     "name": "stdout",
     "output_type": "stream",
     "text": [
      "\n",
      "Data Sample:\n",
      "                                          image_path  label\n",
      "0  C:\\Users\\priya\\OneDrive\\Desktop\\BrainTumor pro...   test\n",
      "1  C:\\Users\\priya\\OneDrive\\Desktop\\BrainTumor pro...   test\n",
      "2  C:\\Users\\priya\\OneDrive\\Desktop\\BrainTumor pro...   test\n",
      "3  C:\\Users\\priya\\OneDrive\\Desktop\\BrainTumor pro...   test\n",
      "4  C:\\Users\\priya\\OneDrive\\Desktop\\BrainTumor pro...  train\n"
     ]
    }
   ],
   "source": [
    "df = pd.DataFrame(data, columns=[\"image_path\", \"label\"])\n",
    "print(\"\\nData Sample:\")\n",
    "print(df.head())"
   ]
  },
  {
   "cell_type": "code",
   "execution_count": 21,
   "id": "b4415c39",
   "metadata": {},
   "outputs": [
    {
     "name": "stderr",
     "output_type": "stream",
     "text": [
      "C:\\Users\\priya\\AppData\\Local\\Temp\\ipykernel_26756\\3068322203.py:3: FutureWarning: \n",
      "\n",
      "Passing `palette` without assigning `hue` is deprecated and will be removed in v0.14.0. Assign the `x` variable to `hue` and set `legend=False` for the same effect.\n",
      "\n",
      "  sns.countplot(data=df, x='label', palette='Set2')\n"
     ]
    },
    {
     "data": {
      "image/png": "[encoded data removed]",
      "text/plain": [
       "<Figure size 800x500 with 1 Axes>"
      ]
     },
     "metadata": {},
     "output_type": "display_data"
    }
   ],
   "source": [
    "# Count plot\n",
    "plt.figure(figsize=(8, 5))\n",
    "sns.countplot(data=df, x='label', palette='Set2')\n",
    "plt.title(\"Number of Images per Class\")\n",
    "plt.xticks(rotation=45)\n",
    "plt.tight_layout()\n",
    "plt.show()"
   ]
  },
  {
   "cell_type": "code",
   "execution_count": 22,
   "id": "614eea9e",
   "metadata": {},
   "outputs": [],
   "source": [
    "# Show sample images per class\n",
    "def show_images(df, category, n=5):\n",
    "    sample_paths = df[df['label'] == category]['image_path'].values[:n]\n",
    "    plt.figure(figsize=(15, 3))\n",
    "    for i, img_path in enumerate(sample_paths):\n",
    "        img = cv2.imread(img_path)\n",
    "        img = cv2.resize(img, (128, 128))\n",
    "        img = cv2.cvtColor(img, cv2.COLOR_BGR2RGB)\n",
    "        plt.subplot(1, n, i+1)\n",
    "        plt.imshow(img)\n",
    "        plt.title(category)\n",
    "        plt.axis('off')\n",
    "    plt.suptitle(f\"Sample Images - {category}\", fontsize=16)\n",
    "    plt.tight_layout()\n",
    "    plt.show()\n"
   ]
  },
  {
   "cell_type": "code",
   "execution_count": 24,
   "id": "c444e283",
   "metadata": {},
   "outputs": [],
   "source": [
    "def show_images(df, category, n=5):\n",
    "    sample_paths = df[df['label'] == category]['image_path'].values[:n]\n",
    "    plt.figure(figsize=(15, 3))\n",
    "    shown = 0\n",
    "    for i, img_path in enumerate(sample_paths):\n",
    "        img = cv2.imread(img_path)\n",
    "        if img is None:\n",
    "            print(f\"Warning: Could not read image at {img_path}\")\n",
    "            continue  # skip if image can't be read\n",
    "        img = cv2.resize(img, (128, 128))\n",
    "        img = cv2.cvtColor(img, cv2.COLOR_BGR2RGB)\n",
    "        plt.subplot(1, n, shown + 1)\n",
    "        plt.imshow(img)\n",
    "        plt.title(category)\n",
    "        plt.axis('off')\n",
    "        shown += 1\n",
    "        if shown >= n:\n",
    "            break\n",
    "    plt.suptitle(f\"Sample Images - {category}\", fontsize=16)\n",
    "    plt.tight_layout()\n",
    "    plt.show()\n"
   ]
  },
  {
   "cell_type": "code",
   "execution_count": 27,
   "id": "d9e212f9",
   "metadata": {},
   "outputs": [
    {
     "name": "stdout",
     "output_type": "stream",
     "text": [
      "Warning: Could not read image at C:\\Users\\priya\\OneDrive\\Desktop\\BrainTumor project\\dataset\\test\\glioma\n",
      "Warning: Could not read image at C:\\Users\\priya\\OneDrive\\Desktop\\BrainTumor project\\dataset\\test\\meningioma\n",
      "Warning: Could not read image at C:\\Users\\priya\\OneDrive\\Desktop\\BrainTumor project\\dataset\\test\\notumor\n",
      "Warning: Could not read image at C:\\Users\\priya\\OneDrive\\Desktop\\BrainTumor project\\dataset\\test\\pituitary\n",
      "Warning: Could not read image at C:\\Users\\priya\\OneDrive\\Desktop\\BrainTumor project\\dataset\\train\\glioma\n",
      "Warning: Could not read image at C:\\Users\\priya\\OneDrive\\Desktop\\BrainTumor project\\dataset\\train\\meningioma\n",
      "Warning: Could not read image at C:\\Users\\priya\\OneDrive\\Desktop\\BrainTumor project\\dataset\\train\\notumor\n",
      "Warning: Could not read image at C:\\Users\\priya\\OneDrive\\Desktop\\BrainTumor project\\dataset\\train\\pituitary\n"
     ]
    }
   ],
   "source": [
    "image_shapes = []\n",
    "\n",
    "for img_path in df['image_path'][:200]:  # sample for speed\n",
    "    img = cv2.imread(img_path)\n",
    "    if img is not None:\n",
    "        image_shapes.append(img.shape)  # (height, width, channels)\n",
    "    else:\n",
    "        print(f\"Warning: Could not read image at {img_path}\")"
   ]
  },
  {
   "cell_type": "code",
   "execution_count": 33,
   "id": "b83bba81",
   "metadata": {},
   "outputs": [
    {
     "name": "stderr",
     "output_type": "stream",
     "text": [
      "No artists with labels found to put in legend.  Note that artists whose label start with an underscore are ignored when legend() is called with no argument.\n"
     ]
    },
    {
     "name": "stdout",
     "output_type": "stream",
     "text": [
      "Warning: Could not read image at C:\\Users\\priya\\OneDrive\\Desktop\\BrainTumor project\\dataset\\test\\glioma\n",
      "Warning: Could not read image at C:\\Users\\priya\\OneDrive\\Desktop\\BrainTumor project\\dataset\\test\\meningioma\n",
      "Warning: Could not read image at C:\\Users\\priya\\OneDrive\\Desktop\\BrainTumor project\\dataset\\test\\notumor\n",
      "Warning: Could not read image at C:\\Users\\priya\\OneDrive\\Desktop\\BrainTumor project\\dataset\\test\\pituitary\n",
      "Warning: Could not read image at C:\\Users\\priya\\OneDrive\\Desktop\\BrainTumor project\\dataset\\train\\glioma\n",
      "Warning: Could not read image at C:\\Users\\priya\\OneDrive\\Desktop\\BrainTumor project\\dataset\\train\\meningioma\n",
      "Warning: Could not read image at C:\\Users\\priya\\OneDrive\\Desktop\\BrainTumor project\\dataset\\train\\notumor\n",
      "Warning: Could not read image at C:\\Users\\priya\\OneDrive\\Desktop\\BrainTumor project\\dataset\\train\\pituitary\n",
      "\n",
      "Image Dimension Stats:\n",
      "       height width channels\n",
      "count       0     0        0\n",
      "unique      0     0        0\n",
      "top       NaN   NaN      NaN\n",
      "freq      NaN   NaN      NaN\n"
     ]
    },
    {
     "data": {
      "image/png": "[encoded data removed]",
      "text/plain": [
       "<Figure size 1000x500 with 1 Axes>"
      ]
     },
     "metadata": {},
     "output_type": "display_data"
    }
   ],
   "source": [
    "import cv2\n",
    "import pandas as pd\n",
    "import matplotlib.pyplot as plt\n",
    "import seaborn as sns\n",
    "\n",
    "# Create image_shapes list\n",
    "image_shapes = []\n",
    "\n",
    "# Sample first 200 images from the dataframe `df`\n",
    "for img_path in df['image_path'][:200]:\n",
    "    img = cv2.imread(img_path)\n",
    "    if img is not None:\n",
    "        image_shapes.append(img.shape)  # (height, width, channels)\n",
    "    else:\n",
    "        print(f\"Warning: Could not read image at {img_path}\")\n",
    "\n",
    "# Create DataFrame\n",
    "shapes_df = pd.DataFrame(image_shapes, columns=[\"height\", \"width\", \"channels\"])\n",
    "\n",
    "# Display basic stats\n",
    "print(\"\\nImage Dimension Stats:\")\n",
    "print(shapes_df.describe())\n",
    "\n",
    "# Plot distributions\n",
    "plt.figure(figsize=(10, 5))\n",
    "sns.histplot(shapes_df[\"height\"], kde=True, color='skyblue', label='height')\n",
    "sns.histplot(shapes_df[\"width\"], kde=True, color='salmon', label='width')\n",
    "plt.legend()\n",
    "plt.title(\"Distribution of Image Dimensions\")\n",
    "plt.xlabel(\"Pixels\")\n",
    "plt.ylabel(\"Frequency\")\n",
    "plt.tight_layout()\n",
    "plt.show()\n"
   ]
  },
  {
   "cell_type": "code",
   "execution_count": 31,
   "id": "32fd4880",
   "metadata": {},
   "outputs": [],
   "source": [
    "le = LabelEncoder()\n",
    "df['label_encoded'] = le.fit_transform(df['label'])\n",
    "\n",
    "# Train-test split\n",
    "train_df, test_df = train_test_split(df, test_size=0.2, stratify=df['label_encoded'], random_state=42)"
   ]
  },
  {
   "cell_type": "code",
   "execution_count": 32,
   "id": "37558cea",
   "metadata": {},
   "outputs": [
    {
     "name": "stdout",
     "output_type": "stream",
     "text": [
      "\n",
      "Train/Test Split:\n",
      "Train size: 6\n",
      "Test size: 2\n"
     ]
    }
   ],
   "source": [
    "print(\"\\nTrain/Test Split:\")\n",
    "print(\"Train size:\", len(train_df))\n",
    "print(\"Test size:\", len(test_df))"
   ]
  }
 ],
 "metadata": {
  "kernelspec": {
   "display_name": "myenv",
   "language": "python",
   "name": "python3"
  },
  "language_info": {
   "codemirror_mode": {
    "name": "ipython",
    "version": 3
   },
   "file_extension": ".py",
   "mimetype": "text/x-python",
   "name": "python",
   "nbconvert_exporter": "python",
   "pygments_lexer": "ipython3",
   "version": "3.8.5"
  }
 },
 "nbformat": 4,
 "nbformat_minor": 5
}
